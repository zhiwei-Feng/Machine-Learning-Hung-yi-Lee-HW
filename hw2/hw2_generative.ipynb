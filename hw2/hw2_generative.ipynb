{
 "cells": [
  {
   "cell_type": "code",
   "execution_count": 34,
   "metadata": {
    "ExecuteTime": {
     "end_time": "2019-10-04T14:10:03.649585Z",
     "start_time": "2019-10-04T14:10:03.391978Z"
    }
   },
   "outputs": [],
   "source": [
    "import numpy as np\n",
    "import pandas as pd\n",
    "from numpy.linalg import inv\n",
    "\n",
    "X_train = pd.read_csv('X_train').values\n",
    "y_train = pd.read_csv('y_train').values.flatten()\n",
    "X_test = pd.read_csv('X_test').values"
   ]
  },
  {
   "cell_type": "code",
   "execution_count": 39,
   "metadata": {
    "ExecuteTime": {
     "end_time": "2019-10-04T14:13:25.902499Z",
     "start_time": "2019-10-04T14:13:25.889450Z"
    }
   },
   "outputs": [],
   "source": [
    "class data_manager():\n",
    "    def __init__(self):\n",
    "        self.data = {}\n",
    "\n",
    "    def read(self, X_train, y_train, X_test):\n",
    "        self.data['X_train'] = X_train\n",
    "        self.data['Y_train'] = y_train\n",
    "        self.data['X_test'] = X_test\n",
    "\n",
    "    def find_theta(self):\n",
    "        class_0_id = []\n",
    "        class_1_id = []\n",
    "        X_train = self.data['X_train']\n",
    "        y_train = self.data['Y_train']\n",
    "\n",
    "        class_0 = X_train[y_train == 0]\n",
    "        class_1 = X_train[y_train == 1]\n",
    "\n",
    "        mean_0 = np.mean(class_0, axis=0)\n",
    "        mean_1 = np.mean(class_1, axis=0)\n",
    "\n",
    "        n = class_0.shape[1]\n",
    "        cov_0 = np.zeros((n, n))\n",
    "        cov_1 = np.zeros((n, n))\n",
    "\n",
    "        for i in range(class_0.shape[0]):\n",
    "            cov_0 += np.dot(np.transpose([class_0[i] - mean_0]),\n",
    "                            [(class_0[i] - mean_0)]) / class_0.shape[0]\n",
    "\n",
    "        for i in range(class_1.shape[0]):\n",
    "            cov_1 += np.dot(np.transpose([class_1[i] - mean_1]),\n",
    "                            [(class_1[i] - mean_1)]) / class_1.shape[0]\n",
    "\n",
    "        cov = (cov_0*class_0.shape[0] + cov_1*class_1.shape[0]\n",
    "               ) / (class_0.shape[0] + class_1.shape[0])\n",
    "\n",
    "        self.w = np.transpose(((mean_0 - mean_1)).dot(inv(cov)))\n",
    "        self.b = (- 0.5) * (mean_0).dot(inv(cov)).dot(mean_0)\\\n",
    "            + 0.5 * (mean_1).dot(inv(cov)).dot(mean_1)\\\n",
    "            + np.log(float(class_0.shape[0]) / class_1.shape[0])\n",
    "\n",
    "        result = self.func(X_train)\n",
    "        answer = self.predict(result)\n",
    "\n",
    "    def func(self, x):\n",
    "        arr = np.empty([x.shape[0], 1], dtype=float)\n",
    "        for i in range(x.shape[0]):\n",
    "            z = x[i, :].dot(self.w) + self.b\n",
    "            z *= (-1)\n",
    "            arr[i][0] = 1 / (1 + np.exp(z))\n",
    "        return np.clip(arr, 1e-8, 1-(1e-8))\n",
    "\n",
    "    def predict(self, x):\n",
    "        ans = np.ones([x.shape[0], 1], dtype=int)\n",
    "        for i in range(x.shape[0]):\n",
    "            if x[i] > 0.5:\n",
    "                ans[i] = 0\n",
    "        return ans"
   ]
  },
  {
   "cell_type": "code",
   "execution_count": 40,
   "metadata": {
    "ExecuteTime": {
     "end_time": "2019-10-04T14:13:27.527253Z",
     "start_time": "2019-10-04T14:13:26.254157Z"
    }
   },
   "outputs": [],
   "source": [
    "dm = data_manager()\n",
    "dm.read(X_train,y_train,X_test)\n",
    "dm.find_theta()\n",
    "result = dm.func(X_test)\n",
    "answer = dm.predict(result)\n",
    "sampleSubmission = pd.read_csv('sample_submission.csv',index_col='id')\n",
    "sampleSubmission['label'] = answer\n",
    "sampleSubmission.to_csv('result.csv')"
   ]
  },
  {
   "cell_type": "code",
   "execution_count": null,
   "metadata": {},
   "outputs": [],
   "source": []
  }
 ],
 "metadata": {
  "kernelspec": {
   "display_name": "Python 3",
   "language": "python",
   "name": "python3"
  },
  "language_info": {
   "codemirror_mode": {
    "name": "ipython",
    "version": 3
   },
   "file_extension": ".py",
   "mimetype": "text/x-python",
   "name": "python",
   "nbconvert_exporter": "python",
   "pygments_lexer": "ipython3",
   "version": "3.7.3"
  },
  "toc": {
   "base_numbering": 1,
   "nav_menu": {},
   "number_sections": true,
   "sideBar": true,
   "skip_h1_title": false,
   "title_cell": "Table of Contents",
   "title_sidebar": "Contents",
   "toc_cell": false,
   "toc_position": {},
   "toc_section_display": true,
   "toc_window_display": false
  }
 },
 "nbformat": 4,
 "nbformat_minor": 2
}
