{
 "cells": [
  {
   "cell_type": "code",
   "execution_count": 60,
   "metadata": {
    "ExecuteTime": {
     "end_time": "2019-10-06T09:53:53.944720Z",
     "start_time": "2019-10-06T09:53:53.939762Z"
    }
   },
   "outputs": [],
   "source": [
    "import pandas as pd\n",
    "import numpy as np\n",
    "from sklearn.linear_model import LogisticRegressionCV\n",
    "from sklearn.linear_model import LogisticRegression\n",
    "from sklearn.metrics import f1_score\n",
    "from sklearn.pipeline import make_pipeline\n",
    "from sklearn.preprocessing import PolynomialFeatures\n",
    "from sklearn.preprocessing import StandardScaler\n",
    "from sklearn.model_selection import train_test_split"
   ]
  },
  {
   "cell_type": "code",
   "execution_count": 65,
   "metadata": {
    "ExecuteTime": {
     "end_time": "2019-10-06T10:13:47.952312Z",
     "start_time": "2019-10-06T10:13:25.952816Z"
    }
   },
   "outputs": [
    {
     "name": "stderr",
     "output_type": "stream",
     "text": [
      "D:\\Software\\Anaconda3\\lib\\site-packages\\sklearn\\linear_model\\logistic.py:433: FutureWarning: Default solver will be changed to 'lbfgs' in 0.22. Specify a solver to silence this warning.\n",
      "  FutureWarning)\n"
     ]
    },
    {
     "data": {
      "text/plain": [
       "0.8593409293326372"
      ]
     },
     "execution_count": 65,
     "metadata": {},
     "output_type": "execute_result"
    }
   ],
   "source": [
    "train_x = pd.read_csv('X_train')\n",
    "test_x = pd.read_csv('X_test')\n",
    "train_y = pd.read_csv('y_train').values.flatten()\n",
    "pf = PolynomialFeatures(4)\n",
    "# 将train_x的0,1,3,4,5列进行二次项扩展\n",
    "wait = train_x.values[:,[0,1,3,4,5]]\n",
    "done = pf.fit_transform(wait)\n",
    "X_delete = np.delete(train_x.values,[0,1,3,4,5],axis=1)\n",
    "X_train = np.c_[done,X_delete]\n",
    "\n",
    "model = make_pipeline(StandardScaler(),\n",
    "                     LogisticRegression(tol=1e-8,max_iter=500,random_state=123))\n",
    "model.fit(X_train,train_y)\n",
    "model.score(X_train,train_y)"
   ]
  },
  {
   "cell_type": "code",
   "execution_count": 66,
   "metadata": {
    "ExecuteTime": {
     "end_time": "2019-10-06T10:14:15.857247Z",
     "start_time": "2019-10-06T10:14:15.734501Z"
    }
   },
   "outputs": [],
   "source": [
    "# 对测试集的0,1,3,4,5进行同样的二次项扩展\n",
    "test_done = pf.transform(test_x.values[:,[0,1,3,4,5]])\n",
    "test_delete = np.delete(test_x.values,[0,1,3,4,5],axis=1)\n",
    "X_test = np.c_[test_done,test_delete]\n",
    "sampleSubmission = pd.read_csv('sample_submission.csv', index_col='id')\n",
    "sampleSubmission['label'] = model.predict(X_test)\n",
    "sampleSubmission.to_csv('result.csv')"
   ]
  }
 ],
 "metadata": {
  "kernelspec": {
   "display_name": "Python 3",
   "language": "python",
   "name": "python3"
  },
  "language_info": {
   "codemirror_mode": {
    "name": "ipython",
    "version": 3
   },
   "file_extension": ".py",
   "mimetype": "text/x-python",
   "name": "python",
   "nbconvert_exporter": "python",
   "pygments_lexer": "ipython3",
   "version": "3.7.3"
  },
  "toc": {
   "base_numbering": 1,
   "nav_menu": {},
   "number_sections": true,
   "sideBar": true,
   "skip_h1_title": false,
   "title_cell": "Table of Contents",
   "title_sidebar": "Contents",
   "toc_cell": false,
   "toc_position": {},
   "toc_section_display": true,
   "toc_window_display": false
  }
 },
 "nbformat": 4,
 "nbformat_minor": 2
}
