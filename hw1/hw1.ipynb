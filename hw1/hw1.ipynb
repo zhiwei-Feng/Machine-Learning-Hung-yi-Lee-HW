{
 "cells": [
  {
   "cell_type": "code",
   "execution_count": 2,
   "metadata": {
    "pycharm": {
     "is_executing": false
    },
    "scrolled": true
   },
   "outputs": [
    {
     "name": "stderr",
     "output_type": "stream",
     "text": [
      "D:\\Software\\Anaconda3\\lib\\site-packages\\sklearn\\preprocessing\\data.py:645: DataConversionWarning: Data with input dtype object were all converted to float64 by StandardScaler.\n",
      "  return self.partial_fit(X, y)\n",
      "D:\\Software\\Anaconda3\\lib\\site-packages\\ipykernel_launcher.py:37: DataConversionWarning: Data with input dtype object were all converted to float64 by StandardScaler.\n"
     ]
    }
   ],
   "source": [
    "import numpy as np\n",
    "import pandas as pd\n",
    "from sklearn.preprocessing import StandardScaler\n",
    "train_data = pd.read_csv('train.csv')\n",
    "# 前两列是名称不是数据, 后24列为一天24小时的测量值\n",
    "# 每一行代表某天某测量指标一天的测量值\n",
    "test_data = pd.read_csv('test.csv')\n",
    "test = test_data[test_data['AMB_TEMP'] == 'PM2.5']\n",
    "# 待预测的测试集x\n",
    "test_x = test.iloc[:, 2:]\n",
    "train = train_data[train_data['columns'] == 'PM2.5'].iloc[:, 2:]\n",
    "train_x = []\n",
    "train_y = []\n",
    "# 将每一天的PM2.5的数据以10为一组划分,前9个为x, 第10个为y,例如0..9是x,10为y.\n",
    "# 最后一组是14..22是x,23为y\n",
    "for i in range(15):\n",
    "    x = train.iloc[:, i:i+9].values\n",
    "    y = train.iloc[:, i+9].values\n",
    "    train_x.append(x)\n",
    "    train_y.append(y)\n",
    "\n",
    "# 测试数据\n",
    "train_x = np.vstack(train_x)  # 3600 x 9\n",
    "train_y = np.hstack(train_y)  # 3600\n",
    "train_x = np.array(train_x,float)\n",
    "train_y = np.array(train_y,float)\n",
    "\n",
    "# 进行标准缩放，即数据归一化\n",
    "ss = StandardScaler()\n",
    "\n",
    "# 进行数据拟合\n",
    "ss.fit(train_x)\n",
    "# 进行数据转换\n",
    "train_x = ss.transform(train_x)\n",
    "\n",
    "ss.fit(test_x)\n",
    "test_x = ss.transform(test_x)"
   ]
  },
  {
   "cell_type": "code",
   "execution_count": 3,
   "metadata": {},
   "outputs": [],
   "source": [
    "from sklearn.metrics import r2_score\n",
    "\n",
    "\n",
    "class LinearRegression(object):\n",
    "    def __init__(self):\n",
    "        self.coef_ = None\n",
    "        self.intercept_ = None\n",
    "        self._weights = None\n",
    "\n",
    "    def fit_norm(self, X, y):\n",
    "        bias = np.ones(X.shape[0])\n",
    "        X = np.c_[bias, X]\n",
    "        self._weights = np.linalg.inv(X.T@X)@X.T@y\n",
    "        self.coef_ = self._weights[1:]\n",
    "        self.intercept_ = self._weights[0]\n",
    "\n",
    "        return self\n",
    "\n",
    "    def fit_gd(self, X, y, eta=0.001, n_iters=64):\n",
    "\n",
    "        def J(weights, X, y):\n",
    "            return np.sum(y - (X@weights)**2)/len(y)\n",
    "\n",
    "        def dJ(weights, X, y):\n",
    "            return X.T @ ((X@weights) - y) * 2 / len(y)\n",
    "\n",
    "        def gradient_descent(X, y, initial_weights, eta, n_iters=1e4, epsilon=1e-8):\n",
    "            weights = initial_weights\n",
    "            for i in range(n_iters):\n",
    "                gradient = dJ(weights, X, y)\n",
    "                last_gradient = gradient\n",
    "                weights -= eta*gradient\n",
    "                if (abs(J(weights, X, y) - J(last_gradient, X, y)) < epsilon):\n",
    "                    break\n",
    "            return weights\n",
    "\n",
    "        bias = np.ones(X.shape[0])\n",
    "        X = np.c_[bias, X]\n",
    "        initial_weights = np.zeros(X.shape[1])\n",
    "        self._weights = gradient_descent(X, y, initial_weights, eta, n_iters)\n",
    "        self.coef_ = self._weights[1:]\n",
    "        self.intercept_ = self._weights[0]\n",
    "        return self\n",
    "\n",
    "    def predict(self, X_pred):\n",
    "        bias = np.ones(X_pred.shape[0])\n",
    "        X_pred = np.c_[bias, X_pred]\n",
    "        return X_pred@self._weights\n",
    "\n",
    "    def score(self, X_test, y_test):\n",
    "        y_pred = self.predict(X_test)\n",
    "        return r2_score(y_pred, y_test)"
   ]
  },
  {
   "cell_type": "code",
   "execution_count": 4,
   "metadata": {},
   "outputs": [
    {
     "data": {
      "text/plain": [
       "0.8156157460570261"
      ]
     },
     "execution_count": 4,
     "metadata": {},
     "output_type": "execute_result"
    }
   ],
   "source": [
    "lr = LinearRegression()\n",
    "lr.fit_gd(train_x,train_y,n_iters=10000)\n",
    "lr.score(train_x,train_y)"
   ]
  },
  {
   "cell_type": "code",
   "execution_count": 5,
   "metadata": {},
   "outputs": [],
   "source": [
    "etas = [1e-5,1e-4,1e-3,1e-2,1e-1,1]\n",
    "scores = []\n",
    "for eta in etas:\n",
    "    lr.fit_gd(train_x,train_y,eta=eta,n_iters=10000)\n",
    "    scores.append(lr.score(train_x,train_y))"
   ]
  },
  {
   "cell_type": "code",
   "execution_count": 13,
   "metadata": {},
   "outputs": [
    {
     "data": {
      "text/plain": [
       "0.8302731904056851"
      ]
     },
     "execution_count": 13,
     "metadata": {},
     "output_type": "execute_result"
    }
   ],
   "source": [
    "eta=etas[np.argmax(scores)]\n",
    "lr.fit_gd(train_x,train_y,eta=eta,n_iters=20000)\n",
    "lr.score(train_x,train_y)"
   ]
  },
  {
   "cell_type": "code",
   "execution_count": 16,
   "metadata": {},
   "outputs": [],
   "source": [
    "sampleSubmission = pd.read_csv('sampleSubmission.csv',index_col='id')\n",
    "sampleSubmission['value'] = lr.predict(test_x)\n",
    "sampleSubmission.to_csv('result.csv')"
   ]
  },
  {
   "cell_type": "code",
   "execution_count": null,
   "metadata": {},
   "outputs": [],
   "source": []
  }
 ],
 "metadata": {
  "kernelspec": {
   "display_name": "Python 3",
   "language": "python",
   "name": "python3"
  },
  "language_info": {
   "codemirror_mode": {
    "name": "ipython",
    "version": 3
   },
   "file_extension": ".py",
   "mimetype": "text/x-python",
   "name": "python",
   "nbconvert_exporter": "python",
   "pygments_lexer": "ipython3",
   "version": "3.7.3"
  },
  "pycharm": {
   "stem_cell": {
    "cell_type": "raw",
    "metadata": {
     "collapsed": false
    },
    "source": []
   }
  },
  "toc": {
   "base_numbering": 1,
   "nav_menu": {},
   "number_sections": true,
   "sideBar": true,
   "skip_h1_title": false,
   "title_cell": "Table of Contents",
   "title_sidebar": "Contents",
   "toc_cell": false,
   "toc_position": {},
   "toc_section_display": true,
   "toc_window_display": false
  }
 },
 "nbformat": 4,
 "nbformat_minor": 1
}
